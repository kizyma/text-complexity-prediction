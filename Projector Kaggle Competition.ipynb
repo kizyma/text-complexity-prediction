{
 "cells": [
  {
   "cell_type": "code",
   "execution_count": 17,
   "id": "af21f9c8",
   "metadata": {},
   "outputs": [],
   "source": [
    "import pandas as pd\n",
    "import torch\n",
    "from torch import optim, nn\n",
    "from torch.utils.data import Dataset, random_split, DataLoader\n",
    "import transformers\n",
    "from transformers import BertTokenizerFast, BertForSequenceClassification\n",
    "import timeit\n",
    "import pathlib\n",
    "from tqdm import tqdm \n",
    "import timeit"
   ]
  },
  {
   "cell_type": "code",
   "execution_count": 5,
   "id": "9402a518",
   "metadata": {},
   "outputs": [],
   "source": [
    "from transformers.utils.logging import set_verbosity_error\n",
    "set_verbosity_error()\n",
    "\n",
    "device = \"cuda\" if torch.cuda.is_available() else \"cpu\"\n",
    "# You might want to use your own path here\n",
    "# However, you might \n",
    "BASE_PATH = \"YOUR_PATH_HERE\"\n",
    "MAX_LENGTH = 256\n",
    "# Disregard, will just download from TF\n",
    "# MODEL_PATH = pathlib.Path(BASE_PATH, \"input/transformers/bert-base-uncased\")\n",
    "BATCH_SIZE = 32\n",
    "# Usual\n",
    "LEARNING_RATE = 2e-5\n",
    "# Result is a non-issue here, and it will take way too long to train anything per epoch in this case otherwise\n",
    "EPOCHS = 2"
   ]
  },
  {
   "cell_type": "code",
   "execution_count": 7,
   "id": "c020ec83",
   "metadata": {},
   "outputs": [
    {
     "data": {
      "text/html": [
       "<div>\n",
       "<style scoped>\n",
       "    .dataframe tbody tr th:only-of-type {\n",
       "        vertical-align: middle;\n",
       "    }\n",
       "\n",
       "    .dataframe tbody tr th {\n",
       "        vertical-align: top;\n",
       "    }\n",
       "\n",
       "    .dataframe thead th {\n",
       "        text-align: right;\n",
       "    }\n",
       "</style>\n",
       "<table border=\"1\" class=\"dataframe\">\n",
       "  <thead>\n",
       "    <tr style=\"text-align: right;\">\n",
       "      <th></th>\n",
       "      <th>id</th>\n",
       "      <th>url_legal</th>\n",
       "      <th>license</th>\n",
       "      <th>excerpt</th>\n",
       "      <th>target</th>\n",
       "      <th>standard_error</th>\n",
       "    </tr>\n",
       "  </thead>\n",
       "  <tbody>\n",
       "    <tr>\n",
       "      <th>0</th>\n",
       "      <td>c12129c31</td>\n",
       "      <td>NaN</td>\n",
       "      <td>NaN</td>\n",
       "      <td>When the young people returned to the ballroom...</td>\n",
       "      <td>-0.340259</td>\n",
       "      <td>0.464009</td>\n",
       "    </tr>\n",
       "  </tbody>\n",
       "</table>\n",
       "</div>"
      ],
      "text/plain": [
       "          id url_legal license  \\\n",
       "0  c12129c31       NaN     NaN   \n",
       "\n",
       "                                             excerpt    target  standard_error  \n",
       "0  When the young people returned to the ballroom... -0.340259        0.464009  "
      ]
     },
     "execution_count": 7,
     "metadata": {},
     "output_type": "execute_result"
    }
   ],
   "source": [
    "train_df = pd.read_csv(pathlib.Path(BASE_PATH,\"train.csv\"))\n",
    "train_df.head(1)"
   ]
  },
  {
   "cell_type": "code",
   "execution_count": 8,
   "id": "ce4e4ce1",
   "metadata": {},
   "outputs": [
    {
     "data": {
      "text/html": [
       "<div>\n",
       "<style scoped>\n",
       "    .dataframe tbody tr th:only-of-type {\n",
       "        vertical-align: middle;\n",
       "    }\n",
       "\n",
       "    .dataframe tbody tr th {\n",
       "        vertical-align: top;\n",
       "    }\n",
       "\n",
       "    .dataframe thead th {\n",
       "        text-align: right;\n",
       "    }\n",
       "</style>\n",
       "<table border=\"1\" class=\"dataframe\">\n",
       "  <thead>\n",
       "    <tr style=\"text-align: right;\">\n",
       "      <th></th>\n",
       "      <th>id</th>\n",
       "      <th>url_legal</th>\n",
       "      <th>license</th>\n",
       "      <th>excerpt</th>\n",
       "    </tr>\n",
       "  </thead>\n",
       "  <tbody>\n",
       "    <tr>\n",
       "      <th>0</th>\n",
       "      <td>c0f722661</td>\n",
       "      <td>NaN</td>\n",
       "      <td>NaN</td>\n",
       "      <td>My hope lay in Jack's promise that he would ke...</td>\n",
       "    </tr>\n",
       "  </tbody>\n",
       "</table>\n",
       "</div>"
      ],
      "text/plain": [
       "          id url_legal license  \\\n",
       "0  c0f722661       NaN     NaN   \n",
       "\n",
       "                                             excerpt  \n",
       "0  My hope lay in Jack's promise that he would ke...  "
      ]
     },
     "execution_count": 8,
     "metadata": {},
     "output_type": "execute_result"
    }
   ],
   "source": [
    "test_df = pd.read_csv(pathlib.Path(BASE_PATH,\"test.csv\"))\n",
    "test_df.head(1)"
   ]
  },
  {
   "cell_type": "code",
   "execution_count": 10,
   "id": "380487a2",
   "metadata": {},
   "outputs": [
    {
     "data": {
      "text/html": [
       "<div>\n",
       "<style scoped>\n",
       "    .dataframe tbody tr th:only-of-type {\n",
       "        vertical-align: middle;\n",
       "    }\n",
       "\n",
       "    .dataframe tbody tr th {\n",
       "        vertical-align: top;\n",
       "    }\n",
       "\n",
       "    .dataframe thead th {\n",
       "        text-align: right;\n",
       "    }\n",
       "</style>\n",
       "<table border=\"1\" class=\"dataframe\">\n",
       "  <thead>\n",
       "    <tr style=\"text-align: right;\">\n",
       "      <th></th>\n",
       "      <th>id</th>\n",
       "      <th>target</th>\n",
       "    </tr>\n",
       "  </thead>\n",
       "  <tbody>\n",
       "    <tr>\n",
       "      <th>0</th>\n",
       "      <td>c0f722661</td>\n",
       "      <td>0.0</td>\n",
       "    </tr>\n",
       "  </tbody>\n",
       "</table>\n",
       "</div>"
      ],
      "text/plain": [
       "          id  target\n",
       "0  c0f722661     0.0"
      ]
     },
     "execution_count": 10,
     "metadata": {},
     "output_type": "execute_result"
    }
   ],
   "source": [
    "submission_df = pd.read_csv(pathlib.Path(BASE_PATH,\"sample_submission.csv\"))\n",
    "submission_df.head(1)"
   ]
  },
  {
   "cell_type": "code",
   "execution_count": 12,
   "id": "e7b2736e",
   "metadata": {},
   "outputs": [
    {
     "name": "stderr",
     "output_type": "stream",
     "text": [
      "Downloading (…)/main/tokenizer.json: 100%|████| 466k/466k [00:00<00:00, 116MB/s]\n",
      "Downloading model.safetensors: 100%|█████████| 440M/440M [00:38<00:00, 11.4MB/s]\n"
     ]
    }
   ],
   "source": [
    "tokenizer = BertTokenizerFast.from_pretrained(\"bert-base-uncased\")\n",
    "model = BertForSequenceClassification.from_pretrained(\"bert-base-uncased\", num_labels=1).to(device)"
   ]
  },
  {
   "cell_type": "code",
   "execution_count": 13,
   "id": "7ed24f53",
   "metadata": {},
   "outputs": [],
   "source": [
    "class ComplexityDataset(Dataset):\n",
    "    \"\"\"\n",
    "    Custom dataset class for complexity prediction.\n",
    "\n",
    "    Args:\n",
    "        sentences (list of str): List of input sentences.\n",
    "        targets (list of float): List of target complexity scores.\n",
    "        tokenizer (transformers.PreTrainedTokenizer): Tokenizer for encoding sentences.\n",
    "\n",
    "    Attributes:\n",
    "        encodings (dict): Encoded representations of sentences.\n",
    "        targets (list of float): List of target complexity scores.\n",
    "\n",
    "    Methods:\n",
    "        __getitem__(self, idx): Returns a dictionary containing encoded input and target.\n",
    "        __len__(self): Returns the number of samples in the dataset.\n",
    "    \"\"\"\n",
    "\n",
    "    def __init__(self, sentences, targets, tokenizer):\n",
    "        \"\"\"\n",
    "        Initialize the ComplexityDataset.\n",
    "\n",
    "        Args:\n",
    "            sentences (list of str): List of input sentences.\n",
    "            targets (list of float): List of target complexity scores.\n",
    "            tokenizer (transformers.PreTrainedTokenizer): Tokenizer for encoding sentences.\n",
    "        \"\"\"\n",
    "        self.encodings = tokenizer(sentences, padding=True, truncation=True, max_length=MAX_LENGTH)\n",
    "        self.targets = targets\n",
    "        \n",
    "    def __getitem__(self, idx):\n",
    "        \"\"\"\n",
    "        Get the encoded input and target at the specified index.\n",
    "\n",
    "        Args:\n",
    "            idx (int): Index of the sample.\n",
    "\n",
    "        Returns:\n",
    "            dict: Dictionary containing encoded input and target.\n",
    "        \"\"\"\n",
    "        out_dict = {key: torch.tensor(val[idx]) for key, val in self.encodings.items()}\n",
    "        out_dict[\"targets\"] = torch.tensor(self.targets[idx], dtype=torch.float)\n",
    "        return out_dict\n",
    "    \n",
    "    def __len__(self):\n",
    "        \"\"\"\n",
    "        Get the total number of samples in the dataset.\n",
    "\n",
    "        Returns:\n",
    "            int: Number of samples in the dataset.\n",
    "        \"\"\"\n",
    "        return len(self.targets)"
   ]
  },
  {
   "cell_type": "code",
   "execution_count": 14,
   "id": "42f1785e",
   "metadata": {},
   "outputs": [],
   "source": [
    "class ComplexitySubmitDataset(Dataset):\n",
    "    \"\"\"\n",
    "    Custom dataset class for complexity prediction on UNSEEN data (SUB).\n",
    "\n",
    "    Args:\n",
    "        sentences (list of str): List of input sentences.\n",
    "        tokenizer (transformers.PreTrainedTokenizer): Tokenizer for encoding sentences.\n",
    "        ids (list of str): List of identifiers for the data samples.\n",
    "\n",
    "    Attributes:\n",
    "        ids (list of str): List of identifiers for the data samples.\n",
    "        encodings (dict): Encoded representations of sentences.\n",
    "\n",
    "    Methods:\n",
    "        __getitem__(self, idx): Returns a dictionary containing encoded input and identifiers.\n",
    "        __len__(self): Returns the number of samples in the dataset.\n",
    "    \"\"\"\n",
    "\n",
    "    def __init__(self, sentences, tokenizer, ids):\n",
    "        \"\"\"\n",
    "        Initialize the ComplexitySubmitDataset.\n",
    "\n",
    "        Args:\n",
    "            sentences (list of str): List of input sentences.\n",
    "            tokenizer (transformers.PreTrainedTokenizer): Tokenizer for encoding sentences.\n",
    "            ids (list of str): List of identifiers for the data samples.\n",
    "        \"\"\"\n",
    "        self.ids = ids\n",
    "        self.encodings = tokenizer(sentences, padding=True, truncation=True, max_length=MAX_LENGTH)\n",
    "        \n",
    "    def __getitem__(self, idx):\n",
    "        \"\"\"\n",
    "        Get the encoded input and identifiers at the specified index.\n",
    "\n",
    "        Args:\n",
    "            idx (int): Index of the sample.\n",
    "\n",
    "        Returns:\n",
    "            dict: Dictionary containing encoded input and identifiers.\n",
    "        \"\"\"\n",
    "        out_dict = {key: torch.tensor(val[idx]) for key, val in self.encodings.items()}\n",
    "        out_dict[\"ids\"] = self.ids[idx]\n",
    "        return out_dict\n",
    "    \n",
    "    def __len__(self):\n",
    "        \"\"\"\n",
    "        Get the total number of samples in the dataset.\n",
    "\n",
    "        Returns:\n",
    "            int: Number of samples in the dataset.\n",
    "        \"\"\"\n",
    "        return len(self.ids)"
   ]
  },
  {
   "cell_type": "code",
   "execution_count": 15,
   "id": "96ef962f",
   "metadata": {},
   "outputs": [],
   "source": [
    "dataset = ComplexityDataset(train_df[\"excerpt\"].to_list(), train_df[\"target\"].to_list(), tokenizer)\n",
    "test_dataset = ComplexitySubmitDataset(test_df[\"excerpt\"].to_list(), tokenizer, test_df[\"id\"].to_list())\n",
    "\n",
    "generator = torch.Generator().manual_seed(42)\n",
    "num_samples = len(dataset)\n",
    "train_size = int(0.9 * num_samples)\n",
    "val_size = num_samples - train_size\n",
    "\n",
    "train_dataset, val_dataset = random_split(dataset, [train_size, val_size], generator=generator)"
   ]
  },
  {
   "cell_type": "code",
   "execution_count": 16,
   "id": "dabac800",
   "metadata": {},
   "outputs": [],
   "source": [
    "train_dataloader = DataLoader(dataset=train_dataset,\n",
    "                              batch_size=BATCH_SIZE,\n",
    "                              shuffle=True)\n",
    "\n",
    "val_dataloader = DataLoader(dataset=val_dataset,\n",
    "                              batch_size=BATCH_SIZE,\n",
    "                              shuffle=True)\n",
    "\n",
    "test_dataloader = DataLoader(dataset=test_dataset,\n",
    "                              batch_size=BATCH_SIZE,\n",
    "                              shuffle=False)"
   ]
  },
  {
   "cell_type": "code",
   "execution_count": 18,
   "id": "9d65ac9c",
   "metadata": {},
   "outputs": [
    {
     "name": "stderr",
     "output_type": "stream",
     "text": [
      "100%|███████████████████████████████████████████| 80/80 [10:23<00:00,  7.80s/it]\n",
      "100%|█████████████████████████████████████████████| 9/9 [00:19<00:00,  2.22s/it]\n",
      " 50%|██████████████████████                      | 1/2 [10:43<10:43, 643.63s/it]"
     ]
    },
    {
     "name": "stdout",
     "output_type": "stream",
     "text": [
      "------------------------------\n",
      "Train Loss EPOCH 1: 0.6184\n",
      "Valid Loss EPOCH 1: 0.3126\n",
      "------------------------------\n"
     ]
    },
    {
     "name": "stderr",
     "output_type": "stream",
     "text": [
      "100%|███████████████████████████████████████████| 80/80 [10:20<00:00,  7.76s/it]\n",
      "100%|█████████████████████████████████████████████| 9/9 [00:20<00:00,  2.26s/it]\n",
      "100%|████████████████████████████████████████████| 2/2 [21:24<00:00, 642.26s/it]"
     ]
    },
    {
     "name": "stdout",
     "output_type": "stream",
     "text": [
      "------------------------------\n",
      "Train Loss EPOCH 2: 0.3031\n",
      "Valid Loss EPOCH 2: 0.3905\n",
      "------------------------------\n",
      "Training Time: 1284.46s\n"
     ]
    },
    {
     "name": "stderr",
     "output_type": "stream",
     "text": [
      "\n"
     ]
    }
   ],
   "source": [
    "# Initialize the optimizer\n",
    "optimizer = optim.AdamW(model.parameters(), lr=LEARNING_RATE)\n",
    "\n",
    "# Measure training time\n",
    "start = timeit.default_timer()\n",
    "\n",
    "# Training loop\n",
    "for epoch in tqdm(range(EPOCHS), position=0, leave=True):\n",
    "    model.train()  # Set the model to training mode\n",
    "    train_running_loss = 0 \n",
    "\n",
    "    # Iterate through training batches\n",
    "    for idx, sample in enumerate(tqdm(train_dataloader, position=0, leave=True)):\n",
    "        input_ids = sample['input_ids'].to(device)\n",
    "        attention_mask = sample['attention_mask'].to(device)\n",
    "        targets = sample[\"targets\"].to(device)\n",
    "\n",
    "        # Forward pass and compute loss\n",
    "        outputs = model(input_ids=input_ids, attention_mask=attention_mask, labels=targets)\n",
    "        loss = outputs.loss\n",
    "\n",
    "        # Backpropagation and optimizer step\n",
    "        optimizer.zero_grad()\n",
    "        loss.backward()\n",
    "        optimizer.step()\n",
    "\n",
    "        train_running_loss += loss.item()\n",
    "\n",
    "    # Calculate average training loss for the epoch\n",
    "    train_loss = train_running_loss / (idx + 1)\n",
    "\n",
    "    model.eval()  # Set the model to evaluation mode\n",
    "    val_running_loss = 0 \n",
    "\n",
    "    # Evaluate on validation data\n",
    "    with torch.no_grad():\n",
    "        for idx, sample in enumerate(tqdm(val_dataloader, position=0, leave=True)):\n",
    "            input_ids = sample['input_ids'].to(device)\n",
    "            attention_mask = sample['attention_mask'].to(device)\n",
    "            targets = sample[\"targets\"].to(device)\n",
    "\n",
    "            # Forward pass and compute loss for validation\n",
    "            outputs = model(input_ids=input_ids, attention_mask=attention_mask, labels=targets)\n",
    "            val_running_loss += outputs.loss.item()\n",
    "\n",
    "        # Calculate average validation loss for the epoch\n",
    "        val_loss = val_running_loss / (idx + 1)\n",
    "\n",
    "    # Print epoch results\n",
    "    print(\"-\"*30)\n",
    "    print(f\"Train Loss EPOCH {epoch+1}: {train_loss:.4f}\")\n",
    "    print(f\"Valid Loss EPOCH {epoch+1}: {val_loss:.4f}\")\n",
    "    print(\"-\"*30)\n",
    "\n",
    "# Calculate total training time\n",
    "stop = timeit.default_timer()\n",
    "print(f\"Training Time: {stop-start:.2f}s\")"
   ]
  },
  {
   "cell_type": "code",
   "execution_count": 19,
   "id": "9f5d1a78",
   "metadata": {},
   "outputs": [],
   "source": [
    "# torch.cuda.empty_cache()"
   ]
  },
  {
   "cell_type": "code",
   "execution_count": 20,
   "id": "31252034",
   "metadata": {},
   "outputs": [
    {
     "name": "stderr",
     "output_type": "stream",
     "text": [
      "100%|█████████████████████████████████████████████| 1/1 [00:00<00:00,  1.84it/s]\n"
     ]
    }
   ],
   "source": [
    "# Initialize empty lists to store predictions and IDs\n",
    "preds = []\n",
    "ids = []\n",
    "\n",
    "# Set the model to evaluation mode (no gradient computation)\n",
    "model.eval()\n",
    "\n",
    "# Perform inference on the test dataset\n",
    "with torch.no_grad():\n",
    "    # Iterate through batches in the test data loader\n",
    "    for idx, sample in enumerate(tqdm(test_dataloader, position=0, leave=True)):\n",
    "        # Move input data to the appropriate device (GPU or CPU)\n",
    "        input_ids = sample['input_ids'].to(device)\n",
    "        attention_mask = sample['attention_mask'].to(device)\n",
    "        \n",
    "        # Extend the 'ids' list with the IDs from the current batch\n",
    "        ids.extend(sample[\"ids\"])\n",
    "        \n",
    "        # Forward pass through the model to obtain predictions\n",
    "        outputs = model(input_ids=input_ids, attention_mask=attention_mask)\n",
    "        \n",
    "        # Extract the predictions (logits) and convert them to a list of floats\n",
    "        preds.extend([float(i) for i in outputs[\"logits\"].squeeze()])"
   ]
  },
  {
   "cell_type": "code",
   "execution_count": 22,
   "id": "f9ffcc88",
   "metadata": {},
   "outputs": [],
   "source": [
    "SUB_PATH = pathlib.Path(BASE_PATH,\"submission.csv\")\n",
    "submission_df = pd.DataFrame(list(zip(ids, preds)),\n",
    "               columns =['id', 'target'])\n",
    "submission_df.to_csv(SUB_PATH, index=False)"
   ]
  },
  {
   "cell_type": "code",
   "execution_count": 23,
   "id": "efca6304",
   "metadata": {},
   "outputs": [],
   "source": [
    "# Save the trained model\n",
    "model.save_pretrained(BASE_PATH)"
   ]
  },
  {
   "cell_type": "code",
   "execution_count": 24,
   "id": "714a439b",
   "metadata": {},
   "outputs": [],
   "source": [
    "import json\n",
    "\n",
    "metrics = {\n",
    "    'train_loss': [0.6184, 0.3031],  # Training loss for each epoch\n",
    "    'valid_loss': [0.3126, 0.3905],  # Validation loss for each epoch\n",
    "}\n",
    "\n",
    "# Specify the path to save metrics\n",
    "metrics_save_path = pathlib.Path(BASE_PATH,\"metrics.json\")\n",
    "\n",
    "# Save metrics to a JSON file\n",
    "with open(metrics_save_path, 'w') as metrics_file:\n",
    "    json.dump(metrics, metrics_file)"
   ]
  },
  {
   "cell_type": "code",
   "execution_count": null,
   "id": "61e8d8c3",
   "metadata": {},
   "outputs": [],
   "source": []
  }
 ],
 "metadata": {
  "kernelspec": {
   "display_name": "Python 3 (ipykernel)",
   "language": "python",
   "name": "python3"
  },
  "language_info": {
   "codemirror_mode": {
    "name": "ipython",
    "version": 3
   },
   "file_extension": ".py",
   "mimetype": "text/x-python",
   "name": "python",
   "nbconvert_exporter": "python",
   "pygments_lexer": "ipython3",
   "version": "3.10.12"
  }
 },
 "nbformat": 4,
 "nbformat_minor": 5
}
